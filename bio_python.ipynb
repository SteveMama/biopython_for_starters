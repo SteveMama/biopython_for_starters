{
  "nbformat": 4,
  "nbformat_minor": 0,
  "metadata": {
    "colab": {
      "name": "bio_python.ipynb",
      "provenance": [],
      "collapsed_sections": [],
      "toc_visible": true
    },
    "kernelspec": {
      "name": "python3",
      "display_name": "Python 3"
    }
  },
  "cells": [
    {
      "cell_type": "code",
      "metadata": {
        "id": "DRx2bbSO2zGz",
        "colab_type": "code",
        "colab": {
          "base_uri": "https://localhost:8080/",
          "height": 50
        },
        "outputId": "b0ab16f7-a939-41dc-a0ad-ee9c686c4e99"
      },
      "source": [
        "!pip install biopython"
      ],
      "execution_count": 56,
      "outputs": [
        {
          "output_type": "stream",
          "text": [
            "Requirement already satisfied: biopython in /usr/local/lib/python3.6/dist-packages (1.77)\n",
            "Requirement already satisfied: numpy in /usr/local/lib/python3.6/dist-packages (from biopython) (1.18.5)\n"
          ],
          "name": "stdout"
        }
      ]
    },
    {
      "cell_type": "markdown",
      "metadata": {
        "id": "W2RHnYP-4RRL",
        "colab_type": "text"
      },
      "source": [
        "The fasta data of P.graminis (f.sp. tritici) actin DNA is taken from NCBI.\n",
        "The Data is copied, pasted in notepad and saved as 'file.fasta'\n",
        "\n",
        "Saving the data as .fasta is important for retrieveing and parsing the nucleotide sequence"
      ]
    },
    {
      "cell_type": "code",
      "metadata": {
        "id": "XM24_DeT2__9",
        "colab_type": "code",
        "colab": {
          "base_uri": "https://localhost:8080/",
          "height": 67
        },
        "outputId": "fabe7869-8775-4c28-9898-886880ccbeed"
      },
      "source": [
        "from Bio import SeqIO\n",
        "\n",
        "\n",
        "for seq_record in SeqIO.parse(\"file.fasta\", \"fasta\"):\n",
        "    print(seq_record.id)\n",
        "    print(repr(seq_record.seq))\n",
        "    print(len(seq_record))\n",
        "\n"
      ],
      "execution_count": 57,
      "outputs": [
        {
          "output_type": "stream",
          "text": [
            "X77857.1\n",
            "Seq('TCAGATCAACCTTGATTTATGATGATCAAAAGTCTTTAAATAGATATTGTTGAT...TCT', SingleLetterAlphabet())\n",
            "2627\n"
          ],
          "name": "stdout"
        }
      ]
    },
    {
      "cell_type": "code",
      "metadata": {
        "id": "mFzpl85a5vL2",
        "colab_type": "code",
        "colab": {
          "base_uri": "https://localhost:8080/",
          "height": 67
        },
        "outputId": "03335a25-8b85-4894-981d-ad73b3badde2"
      },
      "source": [
        "from Bio import SeqIO\n",
        "count = 0\n",
        "sequences = [] # Here we are setting up an array to save our sequences for the next step\n",
        "\n",
        "for seq_record in SeqIO.parse(\"file.fasta\", \"fasta\"):\n",
        "    if (count < 6):\n",
        "        sequences.append(seq_record)\n",
        "        print(\"Id: \" + seq_record.id + \" \\t \" + \"Length: \" + str(\"{:,d}\".format(len(seq_record))) )\n",
        "        print(repr(seq_record.seq) + \"\\n\")\n",
        "        count = count + 1"
      ],
      "execution_count": 58,
      "outputs": [
        {
          "output_type": "stream",
          "text": [
            "Id: X77857.1 \t Length: 2,627\n",
            "Seq('TCAGATCAACCTTGATTTATGATGATCAAAAGTCTTTAAATAGATATTGTTGAT...TCT', SingleLetterAlphabet())\n",
            "\n"
          ],
          "name": "stdout"
        }
      ]
    },
    {
      "cell_type": "code",
      "metadata": {
        "id": "WPazvZcr6RZG",
        "colab_type": "code",
        "colab": {
          "base_uri": "https://localhost:8080/",
          "height": 54
        },
        "outputId": "146f9077-991a-4123-8d6b-6c40c72294f6"
      },
      "source": [
        "print(sequences)"
      ],
      "execution_count": 59,
      "outputs": [
        {
          "output_type": "stream",
          "text": [
            "[SeqRecord(seq=Seq('TCAGATCAACCTTGATTTATGATGATCAAAAGTCTTTAAATAGATATTGTTGAT...TCT', SingleLetterAlphabet()), id='X77857.1', name='X77857.1', description='X77857.1 P.graminis (f.sp. tritici) actin DNA', dbxrefs=[])]\n"
          ],
          "name": "stdout"
        }
      ]
    },
    {
      "cell_type": "code",
      "metadata": {
        "id": "aYNXec-o7ru4",
        "colab_type": "code",
        "colab": {
          "base_uri": "https://localhost:8080/",
          "height": 101
        },
        "outputId": "32040a8e-5e49-47f1-f2e2-94059be8cbd0"
      },
      "source": [
        "print(seq_record)"
      ],
      "execution_count": 60,
      "outputs": [
        {
          "output_type": "stream",
          "text": [
            "ID: X77857.1\n",
            "Name: X77857.1\n",
            "Description: X77857.1 P.graminis (f.sp. tritici) actin DNA\n",
            "Number of features: 0\n",
            "Seq('TCAGATCAACCTTGATTTATGATGATCAAAAGTCTTTAAATAGATATTGTTGAT...TCT', SingleLetterAlphabet())\n"
          ],
          "name": "stdout"
        }
      ]
    },
    {
      "cell_type": "markdown",
      "metadata": {
        "id": "HsFNEH9g-xNU",
        "colab_type": "text"
      },
      "source": [
        "##Reverse Complement"
      ]
    },
    {
      "cell_type": "code",
      "metadata": {
        "id": "HdZIxhjy-1x0",
        "colab_type": "code",
        "colab": {
          "base_uri": "https://localhost:8080/",
          "height": 34
        },
        "outputId": "ab9647d3-b9f8-4c43-951a-5ff452f46294"
      },
      "source": [
        "from Bio.Seq import Seq\n",
        "from Bio.Alphabet import IUPAC\n",
        "my_seq = Seq(\"GATCGATGGGCCTATATAGGATCGAAAATCGC\", IUPAC.unambiguous_dna)\n",
        "my_seq\n",
        "Seq('GATCGATGGGCCTATATAGGATCGAAAATCGC', IUPAC.unambiguous_dna)\n",
        "my_seq.complement()\n",
        "Seq('CTAGCTACCCGGATATATCCTAGCTTTTAGCG', IUPAC.unambiguous_dna)\n",
        "my_seq.reverse_complement()\n",
        "Seq('GCGATTTTCGATCCTATATAGGCCCATCGATC', IUPAC.unambiguous_dna)"
      ],
      "execution_count": 62,
      "outputs": [
        {
          "output_type": "execute_result",
          "data": {
            "text/plain": [
              "Seq('GCGATTTTCGATCCTATATAGGCCCATCGATC', IUPACUnambiguousDNA())"
            ]
          },
          "metadata": {
            "tags": []
          },
          "execution_count": 62
        }
      ]
    },
    {
      "cell_type": "code",
      "metadata": {
        "id": "4UBwLXWn-6fv",
        "colab_type": "code",
        "colab": {
          "base_uri": "https://localhost:8080/",
          "height": 34
        },
        "outputId": "649806a1-28da-4c9b-f85b-90e23dd8e422"
      },
      "source": [
        "my_seq[::-1]"
      ],
      "execution_count": 63,
      "outputs": [
        {
          "output_type": "execute_result",
          "data": {
            "text/plain": [
              "Seq('CGCTAAAAGCTAGGATATATCCGGGTAGCTAG', IUPACUnambiguousDNA())"
            ]
          },
          "metadata": {
            "tags": []
          },
          "execution_count": 63
        }
      ]
    },
    {
      "cell_type": "markdown",
      "metadata": {
        "id": "gcXS6MuD7VwZ",
        "colab_type": "text"
      },
      "source": [
        "##**Transcription**"
      ]
    },
    {
      "cell_type": "code",
      "metadata": {
        "id": "qeuFhYJY6YBD",
        "colab_type": "code",
        "colab": {
          "base_uri": "https://localhost:8080/",
          "height": 34
        },
        "outputId": "1dae82ba-78ce-4499-876e-e17931d89356"
      },
      "source": [
        "from Bio.Seq import Seq\n",
        "from Bio.Alphabet import IUPAC\n",
        "coding_dna = Seq(\"ATGGCCATTGTAATGGGCCGCTGAAAGGGTGCCCGATAG\", IUPAC.unambiguous_dna)\n",
        "coding_dna"
      ],
      "execution_count": 64,
      "outputs": [
        {
          "output_type": "execute_result",
          "data": {
            "text/plain": [
              "Seq('ATGGCCATTGTAATGGGCCGCTGAAAGGGTGCCCGATAG', IUPACUnambiguousDNA())"
            ]
          },
          "metadata": {
            "tags": []
          },
          "execution_count": 64
        }
      ]
    },
    {
      "cell_type": "code",
      "metadata": {
        "id": "bDBwq9Lr9_Vc",
        "colab_type": "code",
        "colab": {}
      },
      "source": [
        "template_dna = coding_dna.reverse_complement()"
      ],
      "execution_count": 65,
      "outputs": []
    },
    {
      "cell_type": "code",
      "metadata": {
        "id": "FYSIY9OT-qs5",
        "colab_type": "code",
        "colab": {
          "base_uri": "https://localhost:8080/",
          "height": 34
        },
        "outputId": "affc4afc-c6e9-429d-8073-62e0d8521b7b"
      },
      "source": [
        "template_dna"
      ],
      "execution_count": 66,
      "outputs": [
        {
          "output_type": "execute_result",
          "data": {
            "text/plain": [
              "Seq('CTATCGGGCACCCTTTCAGCGGCCCATTACAATGGCCAT', IUPACUnambiguousDNA())"
            ]
          },
          "metadata": {
            "tags": []
          },
          "execution_count": 66
        }
      ]
    },
    {
      "cell_type": "code",
      "metadata": {
        "id": "AdyJZJTG_y-i",
        "colab_type": "code",
        "colab": {}
      },
      "source": [
        "messenger_rna = coding_dna.transcribe()"
      ],
      "execution_count": 67,
      "outputs": []
    },
    {
      "cell_type": "code",
      "metadata": {
        "id": "OskFcHkO_85s",
        "colab_type": "code",
        "colab": {
          "base_uri": "https://localhost:8080/",
          "height": 34
        },
        "outputId": "288a76a6-cd40-47d7-b781-3ac1f5b883ee"
      },
      "source": [
        "messenger_rna"
      ],
      "execution_count": 68,
      "outputs": [
        {
          "output_type": "execute_result",
          "data": {
            "text/plain": [
              "Seq('AUGGCCAUUGUAAUGGGCCGCUGAAAGGGUGCCCGAUAG', IUPACUnambiguousRNA())"
            ]
          },
          "metadata": {
            "tags": []
          },
          "execution_count": 68
        }
      ]
    },
    {
      "cell_type": "markdown",
      "metadata": {
        "id": "fKsI2QxEAFd6",
        "colab_type": "text"
      },
      "source": [
        "##**Translation**"
      ]
    },
    {
      "cell_type": "code",
      "metadata": {
        "id": "esfa-PjmAbNL",
        "colab_type": "code",
        "colab": {
          "base_uri": "https://localhost:8080/",
          "height": 34
        },
        "outputId": "2d7fec55-e58c-4589-be33-c0b5c9eac267"
      },
      "source": [
        "messenger_rna"
      ],
      "execution_count": 69,
      "outputs": [
        {
          "output_type": "execute_result",
          "data": {
            "text/plain": [
              "Seq('AUGGCCAUUGUAAUGGGCCGCUGAAAGGGUGCCCGAUAG', IUPACUnambiguousRNA())"
            ]
          },
          "metadata": {
            "tags": []
          },
          "execution_count": 69
        }
      ]
    },
    {
      "cell_type": "code",
      "metadata": {
        "id": "OJmc0S52AADe",
        "colab_type": "code",
        "colab": {
          "base_uri": "https://localhost:8080/",
          "height": 34
        },
        "outputId": "94a45ea1-0865-47f5-a688-fd5ed5dfdc40"
      },
      "source": [
        "messenger_rna.translate()"
      ],
      "execution_count": 70,
      "outputs": [
        {
          "output_type": "execute_result",
          "data": {
            "text/plain": [
              "Seq('MAIVMGR*KGAR*', HasStopCodon(IUPACProtein(), '*'))"
            ]
          },
          "metadata": {
            "tags": []
          },
          "execution_count": 70
        }
      ]
    },
    {
      "cell_type": "code",
      "metadata": {
        "id": "eYxX_HotAknF",
        "colab_type": "code",
        "colab": {
          "base_uri": "https://localhost:8080/",
          "height": 34
        },
        "outputId": "ec07ed83-4693-45ca-ca99-c32d74444d32"
      },
      "source": [
        "coding_dna.translate()"
      ],
      "execution_count": 71,
      "outputs": [
        {
          "output_type": "execute_result",
          "data": {
            "text/plain": [
              "Seq('MAIVMGR*KGAR*', HasStopCodon(IUPACProtein(), '*'))"
            ]
          },
          "metadata": {
            "tags": []
          },
          "execution_count": 71
        }
      ]
    },
    {
      "cell_type": "markdown",
      "metadata": {
        "id": "hWTvbsYoCyct",
        "colab_type": "text"
      },
      "source": [
        "##Single Alignment"
      ]
    },
    {
      "cell_type": "code",
      "metadata": {
        "id": "FMFX2axQC4xm",
        "colab_type": "code",
        "colab": {
          "base_uri": "https://localhost:8080/",
          "height": 34
        },
        "outputId": "39fd891e-dab7-4b38-8ff9-b01f6a581b5d"
      },
      "source": [
        "from Bio import SeqIO\n",
        "\n",
        "records = SeqIO.parse(\"file.fasta\", \"fasta\")\n",
        "count = SeqIO.write(records, \"file.sth\", \"stockholm\")\n",
        "print(\"Converted %i records\" % count)"
      ],
      "execution_count": 72,
      "outputs": [
        {
          "output_type": "stream",
          "text": [
            "Converted 1 records\n"
          ],
          "name": "stdout"
        }
      ]
    },
    {
      "cell_type": "code",
      "metadata": {
        "id": "ACYbbcXHAn8f",
        "colab_type": "code",
        "colab": {}
      },
      "source": [
        "from Bio import AlignIO\n",
        "alignment = AlignIO.read(\"file.sth\", \"stockholm\")"
      ],
      "execution_count": 73,
      "outputs": []
    },
    {
      "cell_type": "code",
      "metadata": {
        "id": "vsqp2mDdC20s",
        "colab_type": "code",
        "colab": {
          "base_uri": "https://localhost:8080/",
          "height": 50
        },
        "outputId": "9459bdfe-3385-49f8-b35c-930203389b48"
      },
      "source": [
        "print(alignment)"
      ],
      "execution_count": 74,
      "outputs": [
        {
          "output_type": "stream",
          "text": [
            "SingleLetterAlphabet() alignment with 1 rows and 2627 columns\n",
            "TCAGATCAACCTTGATTTATGATGATCAAAAGTCTTTAAATAGA...TCT X77857.1\n"
          ],
          "name": "stdout"
        }
      ]
    },
    {
      "cell_type": "markdown",
      "metadata": {
        "id": "PWBUGURfI9gt",
        "colab_type": "text"
      },
      "source": [
        "##EMBOSS Needle and Water"
      ]
    },
    {
      "cell_type": "code",
      "metadata": {
        "id": "dV04PiS-I8E6",
        "colab_type": "code",
        "colab": {
          "base_uri": "https://localhost:8080/",
          "height": 34
        },
        "outputId": "ae85c546-558d-41cb-f5d4-4eb556cb8815"
      },
      "source": [
        "from Bio.Emboss.Applications import NeedleCommandline\n",
        "needle_cline = NeedleCommandline(asequence=\"alpha.faa\", bsequence=\"beta.faa\",gapopen=10, gapextend=0.5, outfile=\"needle.txt\")\n",
        "print(needle_cline)"
      ],
      "execution_count": 75,
      "outputs": [
        {
          "output_type": "stream",
          "text": [
            "needle -outfile=needle.txt -asequence=alpha.faa -bsequence=beta.faa -gapopen=10 -gapextend=0.5\n"
          ],
          "name": "stdout"
        }
      ]
    },
    {
      "cell_type": "code",
      "metadata": {
        "id": "IbvEIP3-FKgx",
        "colab_type": "code",
        "colab": {}
      },
      "source": [
        "from Bio.Emboss.Applications import NeedleCommandline"
      ],
      "execution_count": 76,
      "outputs": []
    },
    {
      "cell_type": "code",
      "metadata": {
        "id": "Ehb44uK0JRR6",
        "colab_type": "code",
        "colab": {}
      },
      "source": [
        "needle_cline = NeedleCommandline(r\"C:\\EMBOSS\\needle.exe\",\n",
        "...                                  asequence=\"alpha.faa\", bsequence=\"beta.faa\",\n",
        "...                                  gapopen=10, gapextend=0.5, outfile=\"needle.txt\")"
      ],
      "execution_count": 77,
      "outputs": []
    },
    {
      "cell_type": "code",
      "metadata": {
        "id": "82KdM5aBJWfB",
        "colab_type": "code",
        "colab": {}
      },
      "source": [
        ""
      ],
      "execution_count": null,
      "outputs": []
    }
  ]
}